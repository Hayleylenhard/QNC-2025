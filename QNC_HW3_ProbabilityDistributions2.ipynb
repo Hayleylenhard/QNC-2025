{
 "cells": [
  {
   "cell_type": "markdown",
   "id": "a8d2e76d",
   "metadata": {},
   "source": [
    "In the paper that I chose (https://doi.org/10.1038/s41593-023-01542-x), mice perform a binary behavioral task where they must choose between left/right and then up/down to get a reward. The authors use logistic regression, which assumes a binomial distribution, to investigate how previous rewards influence the choice that the mouse will make next."
   ]
  },
  {
   "cell_type": "code",
   "execution_count": 3,
   "id": "151ae851",
   "metadata": {},
   "outputs": [
    {
     "name": "stdout",
     "output_type": "stream",
     "text": [
      "Optimization terminated successfully.\n",
      "         Current function value: 0.651918\n",
      "         Iterations 5\n",
      "                           Logit Regression Results                           \n",
      "==============================================================================\n",
      "Dep. Variable:                 choice   No. Observations:                  199\n",
      "Model:                          Logit   Df Residuals:                      197\n",
      "Method:                           MLE   Df Model:                            1\n",
      "Date:                Fri, 05 Sep 2025   Pseudo R-squ.:                 0.04036\n",
      "Time:                        10:55:39   Log-Likelihood:                -129.73\n",
      "converged:                       True   LL-Null:                       -135.19\n",
      "Covariance Type:            nonrobust   LLR p-value:                 0.0009557\n",
      "===============================================================================\n",
      "                  coef    std err          z      P>|z|      [0.025      0.975]\n",
      "-------------------------------------------------------------------------------\n",
      "const          -0.0935      0.194     -0.483      0.629      -0.473       0.286\n",
      "prev_reward     0.9721      0.300      3.242      0.001       0.384       1.560\n",
      "===============================================================================\n"
     ]
    },
    {
     "data": {
      "image/png": "[encoded data removed]",
      "text/plain": [
       "<Figure size 640x480 with 1 Axes>"
      ]
     },
     "metadata": {},
     "output_type": "display_data"
    }
   ],
   "source": [
    "import numpy as np\n",
    "import pandas as pd\n",
    "import statsmodels.api as sm\n",
    "import matplotlib.pyplot as plt\n",
    "\n",
    "# ---------------------------\n",
    "# 1. Simulate binary choices\n",
    "# ---------------------------\n",
    "n_trials = 200\n",
    "choices = np.zeros(n_trials)\n",
    "rewards = np.zeros(n_trials)\n",
    "\n",
    "beta0 = -0.2      # baseline bias\n",
    "beta_reward = 1.0 # reward effect\n",
    "\n",
    "for t in range(1, n_trials):\n",
    "    X = beta0 + beta_reward * rewards[t-1]\n",
    "    p_left = 1 / (1 + np.exp(-X))      # logistic function\n",
    "    choices[t] = np.random.binomial(1, p_left)\n",
    "    rewards[t] = np.random.binomial(1, 0.6 if choices[t] == 1 else 0.4)\n",
    "\n",
    "# ---------------------------\n",
    "# 2. Put data in DataFrame\n",
    "# ---------------------------\n",
    "data = pd.DataFrame({\n",
    "    \"choice\": choices[1:],          # drop first trial\n",
    "    \"prev_reward\": rewards[:-1]\n",
    "})\n",
    "\n",
    "# ---------------------------\n",
    "# 3. Fit logistic regression\n",
    "# ---------------------------\n",
    "X = sm.add_constant(data[\"prev_reward\"])\n",
    "y = data[\"choice\"]\n",
    "model = sm.Logit(y, X).fit()\n",
    "print(model.summary())\n",
    "\n",
    "# ---------------------------\n",
    "# 4. Plot choice probability by prev_reward\n",
    "# ---------------------------\n",
    "grouped = data.groupby(\"prev_reward\")[\"choice\"].mean()\n",
    "\n",
    "plt.bar(grouped.index, grouped.values, color=\"skyblue\")\n",
    "plt.xticks([0, 1], [\"No reward\", \"Reward\"])\n",
    "plt.ylabel(\"P(choice = Left)\")\n",
    "plt.title(\"Effect of previous reward on choice\")\n",
    "plt.ylim(0, 1)\n",
    "plt.show()\n"
   ]
  }
 ],
 "metadata": {
  "kernelspec": {
   "display_name": "Python 3",
   "language": "python",
   "name": "python3"
  },
  "language_info": {
   "codemirror_mode": {
    "name": "ipython",
    "version": 3
   },
   "file_extension": ".py",
   "mimetype": "text/x-python",
   "name": "python",
   "nbconvert_exporter": "python",
   "pygments_lexer": "ipython3",
   "version": "3.13.7"
  }
 },
 "nbformat": 4,
 "nbformat_minor": 5
}
