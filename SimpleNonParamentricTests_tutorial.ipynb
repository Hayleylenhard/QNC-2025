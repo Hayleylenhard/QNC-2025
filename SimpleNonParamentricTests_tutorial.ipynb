{
 "cells": [
  {
   "cell_type": "code",
   "execution_count": 2,
   "id": "a3da5e8b",
   "metadata": {},
   "outputs": [
    {
     "name": "stdout",
     "output_type": "stream",
     "text": [
      "p=0.55\n",
      "p = 0.02\n",
      "p = 0.81\n"
     ]
    }
   ],
   "source": [
    "import numpy as np\n",
    "import scipy.stats as st\n",
    "from statsmodels.stats.descriptivestats import sign_test\n",
    "\n",
    "\n",
    "# Make some paired data\n",
    "a = [3,10,4,20,4,7,50,3,5,5,7]\n",
    "b = [5,9,10,15,6,5,43,6,2,1,0]\n",
    "diff = [bi-ai for ai, bi in zip(a,b)]\n",
    "_, p = sign_test(diff)\n",
    "print(f'p={p:.2f}')\n",
    "\n",
    "\n",
    "#Wilcoxon signed-rank test: one sample or paired samples, symmetric distribution(s)\n",
    "#  non-parametric alternative to one-sample t-test!\n",
    "samples = np.random.randint(0, high=51, size=200)\n",
    "null_hypothesis_median = 24\n",
    "\n",
    "# Unlike in Matlab, the scipy implementation does not handle the case of comparing\n",
    "#  to a median other than zero, so we make this a (fake) paired two-sample test\n",
    "#  by subtracting the median from each value\n",
    "_, p = st.wilcoxon(samples-null_hypothesis_median)\n",
    "print(f'p = {p:.2f}')\n",
    "\n",
    "\n",
    "# Mann-Whitney: unpaired, two sample\n",
    "#  non-parametric alternative to two-sample t-test!\n",
    "X = np.random.randint(0, high=51, size=200)\n",
    "Y = 2 + np.random.randint(0, high=51, size=200)\n",
    "_, p = st.mannwhitneyu(X,Y)\n",
    "print(f'p = {p:.2f}')"
   ]
  },
  {
   "cell_type": "markdown",
   "id": "8d2b07c9",
   "metadata": {},
   "source": [
    "EXERCISES\n",
    "\n",
    "1: You are a behavioral geologist measuring the reaction time of rocks in response to a tone. Specifically, you want to compare the median reaction time of geodes, to that of limestone. You recruit 20 rocks per group, and run your reaction-time experiment. What test would you use to compare median reaction times between geodes and limestone, and why?\n",
    "- Looking at two independent samples (reaction time of geodes and reaction time of limestone) and comparing their median values so should use the Mann-Whitney test.\n",
    "\n",
    "2: You are a brilliant scientist working at a biotech firm developing a vaccine that reverses aging. Wow! To test the efficacy of the vaccine, you recruit 50 people, give them a course of your vaccine, and measure their age with a (very) special scale before and after treatment. You want to start by refuting the simple that that the participants' measured ages are not changed by the treatment. What test do you use and why?\n",
    "- Use the Wilcoxon signed-rank test because you are testing whether the median of the difference distribution is 0 which would indicate that the median age values aren't changed by treatment.\n",
    "\n",
    "3: You are a neuroeconomist and believe you have developed a wearable device that can change consumer preferences about a given product. To test your device, you present product X to a group of 40 individuals, and ask them to fill out a survery assessing how much they like the product (larger score means they like it more). Then, you have the individuals wear the device, present product X, and assess how much they like of the product. You want to know if the device reliably increases, decreases, or does not affect their liking of product X. What test would you use and why? What result would indicate that their liking has increased?\n",
    "-  Use the Wilcoxon signed-rank test. Here, the measures are paired so cannot use the Mann-Whitney test because the samples are not independent. Again, you want to test whether the median of the difference distribution is 0, which would indicate that the liking of product X was unchanged after the individuals wore the device. If the median of the difference distribution is a positive number, that would indicate an increase in liking of product X. "
   ]
  },
  {
   "cell_type": "code",
   "execution_count": null,
   "id": "fc889411",
   "metadata": {},
   "outputs": [],
   "source": []
  }
 ],
 "metadata": {
  "kernelspec": {
   "display_name": "Python 3",
   "language": "python",
   "name": "python3"
  },
  "language_info": {
   "codemirror_mode": {
    "name": "ipython",
    "version": 3
   },
   "file_extension": ".py",
   "mimetype": "text/x-python",
   "name": "python",
   "nbconvert_exporter": "python",
   "pygments_lexer": "ipython3",
   "version": "3.13.7"
  }
 },
 "nbformat": 4,
 "nbformat_minor": 5
}
