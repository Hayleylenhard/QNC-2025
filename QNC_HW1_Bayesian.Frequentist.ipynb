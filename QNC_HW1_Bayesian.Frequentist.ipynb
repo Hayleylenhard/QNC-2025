{
 "cells": [
  {
   "cell_type": "markdown",
   "id": "e6eb0887",
   "metadata": {},
   "source": [
    "Exercise #1: If someone gets a positive test, is it \"statistically significant\" at the p<0.05 level? Why or why not?\n",
    "\n",
    "A positive test at the p<0.05 level is not necessarily \"statistically significant.\" The p value is just the probability of obtaining those particular results if the null hypothesis (no difference/effect) is true. In this example, this is the same as the false positive rate of 5%. So the positive test at the p<0.05 level could just mean that that person tested positive even though they do not actually have HIV. Also, since there is only one person in this example, it's hard to draw any meaning from a single test result. "
   ]
  },
  {
   "cell_type": "markdown",
   "id": "826fe234",
   "metadata": {},
   "source": [
    "Exercise #2: What is the probability that if someone gets a positive test, that person is infected?"
   ]
  },
  {
   "cell_type": "code",
   "execution_count": 8,
   "id": "fd41307f",
   "metadata": {},
   "outputs": [
    {
     "name": "stdout",
     "output_type": "stream",
     "text": [
      "if the infection rate is 0, the probability that someone who tests positive for HIV is actually infected is 0.0\n",
      "if the infection rate is 0.4, the probability that someone who tests positive for HIV is actually infected is 0.9302325581395349\n",
      "if the infection rate is 0.1, the probability that someone who tests positive for HIV is actually infected is 0.6896551724137931\n",
      "if the infection rate is 0.2, the probability that someone who tests positive for HIV is actually infected is 0.8333333333333334\n",
      "if the infection rate is 0.3, the probability that someone who tests positive for HIV is actually infected is 0.8955223880597015\n",
      "if the infection rate is 0.5, the probability that someone who tests positive for HIV is actually infected is 0.9523809523809523\n",
      "if the infection rate is 0.6, the probability that someone who tests positive for HIV is actually infected is 0.967741935483871\n",
      "if the infection rate is 0.7, the probability that someone who tests positive for HIV is actually infected is 0.9790209790209791\n",
      "if the infection rate is 0.8, the probability that someone who tests positive for HIV is actually infected is 0.9876543209876543\n",
      "if the infection rate is 0.9, the probability that someone who tests positive for HIV is actually infected is 0.994475138121547\n"
     ]
    }
   ],
   "source": [
    "## setting up values\n",
    "n = 1000\n",
    "false_pos_rate = 0.05\n",
    "false_neg_rate = 0\n",
    "infection_rates = {0, 0.1, 0.2, 0.3, 0.4, 0.5, 0.6, 0.7, 0.8, 0.9}\n",
    "\n",
    "## cycle through all infection rates\n",
    "for value in infection_rates:\n",
    "    false_pos = n * (1-value) * false_pos_rate\n",
    "    true_pos = n * value\n",
    "    false_neg = n * value * false_neg_rate\n",
    "    true_neg = n * (1-value)\n",
    "    probability_infected_given_positive = true_pos / (false_pos + true_pos)\n",
    "    print(f'if the infection rate is {value}, the probability that someone who tests positive for HIV is actually infected is {probability_infected_given_positive}')\n",
    "\n"
   ]
  }
 ],
 "metadata": {
  "kernelspec": {
   "display_name": "Python 3",
   "language": "python",
   "name": "python3"
  },
  "language_info": {
   "codemirror_mode": {
    "name": "ipython",
    "version": 3
   },
   "file_extension": ".py",
   "mimetype": "text/x-python",
   "name": "python",
   "nbconvert_exporter": "python",
   "pygments_lexer": "ipython3",
   "version": "3.13.7"
  }
 },
 "nbformat": 4,
 "nbformat_minor": 5
}
